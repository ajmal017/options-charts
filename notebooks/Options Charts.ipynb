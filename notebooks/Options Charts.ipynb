{
 "cells": [
  {
   "cell_type": "code",
   "execution_count": 1,
   "metadata": {},
   "outputs": [],
   "source": [
    "%reload_ext dotenv\n",
    "%dotenv"
   ]
  },
  {
   "cell_type": "code",
   "execution_count": 2,
   "metadata": {},
   "outputs": [
    {
     "name": "stdout",
     "output_type": "stream",
     "text": [
      "env: LOGLEVEL=INFO\n"
     ]
    }
   ],
   "source": [
    "%env LOGLEVEL=INFO\n",
    "\n",
    "%load_ext autoreload\n",
    "%autoreload 2"
   ]
  },
  {
   "cell_type": "code",
   "execution_count": 3,
   "metadata": {},
   "outputs": [
    {
     "name": "stdout",
     "output_type": "stream",
     "text": [
      "INFO\n"
     ]
    }
   ],
   "source": [
    "import os, logging\n",
    "import json\n",
    "\n",
    "print(os.getenv(\"LOGLEVEL\"))\n",
    "# logging.basicConfig(level=os.environ.get(\"LOGLEVEL\", \"WARNING\").upper())\n",
    "log = logging.getLogger(\"portfolio-transactions\")\n",
    "log.setLevel(os.environ.get(\"LOGLEVEL\", \"WARNING\").upper())"
   ]
  },
  {
   "cell_type": "code",
   "execution_count": 4,
   "metadata": {},
   "outputs": [
    {
     "name": "stdout",
     "output_type": "stream",
     "text": [
      "['/home/harjeet/playground/KiteConnect/option-charts/notebooks', '/home/harjeet/.pyenv/versions/3.8.3/lib/python38.zip', '/home/harjeet/.pyenv/versions/3.8.3/lib/python3.8', '/home/harjeet/.pyenv/versions/3.8.3/lib/python3.8/lib-dynload', '', '/home/harjeet/.virtualenvs/kiteconnect/lib/python3.8/site-packages', '/home/harjeet/playground/KiteConnect/option-charts/src', '/home/harjeet/.virtualenvs/kiteconnect/lib/python3.8/site-packages/IPython/extensions', '/home/harjeet/.ipython']\n"
     ]
    }
   ],
   "source": [
    "import sys\n",
    "print(sys.path)"
   ]
  },
  {
   "cell_type": "code",
   "execution_count": 5,
   "metadata": {},
   "outputs": [],
   "source": [
    "from kiteconnect import KiteConnect"
   ]
  },
  {
   "cell_type": "code",
   "execution_count": 6,
   "metadata": {},
   "outputs": [],
   "source": [
    "API_KEY      = os.getenv(\"API_KEY\")\n",
    "API_SECRET   = os.getenv(\"API_SECRET\")\n",
    "ACCESS_TOKEN = os.getenv(\"ACCESS_TOKEN\")"
   ]
  },
  {
   "cell_type": "markdown",
   "metadata": {},
   "source": [
    "## Getting Access Token\n",
    "\n",
    "Source: https://kite.zerodha.com/connect/login?v=3&api_key=xxx"
   ]
  },
  {
   "cell_type": "code",
   "execution_count": 7,
   "metadata": {},
   "outputs": [
    {
     "name": "stdout",
     "output_type": "stream",
     "text": [
      "https://kite.zerodha.com/connect/login?v=3&api_key=hbviklv8pv4mx2uo\n"
     ]
    }
   ],
   "source": [
    "!echo \"https://kite.zerodha.com/connect/login?v=3&api_key=$API_KEY\""
   ]
  },
  {
   "cell_type": "code",
   "execution_count": 8,
   "metadata": {},
   "outputs": [],
   "source": [
    "request_token = \"Muhme8zqK83fWQfG82j3ucCP7Sin79YZ\"\n",
    "\n",
    "def get_access_token():\n",
    "    kite = KiteConnect(api_key=os.getenv(\"API_KEY\")) # api_key is in above url\n",
    "    data = kite.generate_session(request_token, os.getenv(\"API_SECRET\"))\n",
    "    access_token = data[\"access_token\"]\n",
    "    return access_token\n",
    "\n",
    "# get_access_token()"
   ]
  },
  {
   "cell_type": "code",
   "execution_count": 9,
   "metadata": {},
   "outputs": [
    {
     "name": "stdout",
     "output_type": "stream",
     "text": [
      "Package             Version                 Location\n",
      "------------------- ----------------------- ------------------------------------------------------\n",
      "argon2-cffi         20.1.0\n",
      "astroid             2.4.2\n",
      "async-generator     1.10\n",
      "attrs               20.2.0\n",
      "autobahn            20.7.1\n",
      "Automat             20.2.0\n",
      "backcall            0.2.0\n",
      "bleach              3.2.1\n",
      "certifi             2020.6.20\n",
      "cffi                1.14.3\n",
      "chardet             3.0.4\n",
      "constantly          15.1.0\n",
      "cryptography        3.2.1\n",
      "decorator           4.4.2\n",
      "defusedxml          0.6.0\n",
      "entrypoints         0.3\n",
      "enum34              1.1.10\n",
      "hyperlink           20.0.1\n",
      "idna                2.10\n",
      "incremental         17.5.0\n",
      "ipykernel           5.3.4\n",
      "ipython             7.19.0\n",
      "ipython-genutils    0.2.0\n",
      "isort               5.6.4\n",
      "jedi                0.17.2\n",
      "Jinja2              2.11.2\n",
      "json5               0.9.5\n",
      "jsonschema          3.2.0\n",
      "jupyter-client      6.1.7\n",
      "jupyter-core        4.6.3\n",
      "jupyterlab          2.2.9\n",
      "jupyterlab-pygments 0.1.2\n",
      "jupyterlab-server   1.2.0\n",
      "kiteconnect         3.8.2\n",
      "lazy-object-proxy   1.4.3\n",
      "MarkupSafe          1.1.1\n",
      "mccabe              0.6.1\n",
      "mistune             0.8.4\n",
      "nbclient            0.5.1\n",
      "nbconvert           6.0.7\n",
      "nbformat            5.0.8\n",
      "nest-asyncio        1.4.2\n",
      "notebook            6.1.4\n",
      "option-charts       0.0.post0.dev1+gc84ea1e /home/harjeet/playground/KiteConnect/option-charts/src\n",
      "packaging           20.4\n",
      "pandocfilters       1.4.3\n",
      "parso               0.7.1\n",
      "pexpect             4.8.0\n",
      "pickleshare         0.7.5\n",
      "pip                 20.2.4\n",
      "prometheus-client   0.8.0\n",
      "prompt-toolkit      3.0.8\n",
      "ptyprocess          0.6.0\n",
      "pyasn1              0.4.8\n",
      "pyasn1-modules      0.2.8\n",
      "pycparser           2.20\n",
      "Pygments            2.7.2\n",
      "PyHamcrest          2.0.2\n",
      "pylint              2.6.0\n",
      "pyOpenSSL           19.1.0\n",
      "pyparsing           2.4.7\n",
      "pyrsistent          0.17.3\n",
      "PyScaffold          3.2.3\n",
      "python-dateutil     2.8.1\n",
      "python-dotenv       0.15.0\n",
      "pyzmq               19.0.2\n",
      "requests            2.24.0\n",
      "Send2Trash          1.5.0\n",
      "service-identity    18.1.0\n",
      "setuptools          46.4.0\n",
      "six                 1.15.0\n",
      "terminado           0.9.1\n",
      "testpath            0.4.4\n",
      "toml                0.10.2\n",
      "tornado             6.1\n",
      "traitlets           5.0.5\n",
      "Twisted             20.3.0\n",
      "txaio               20.4.1\n",
      "urllib3             1.25.11\n",
      "wcwidth             0.2.5\n",
      "webencodings        0.5.1\n",
      "wheel               0.34.2\n",
      "wrapt               1.12.1\n",
      "zope.interface      5.1.2\n"
     ]
    }
   ],
   "source": [
    "!pip list"
   ]
  },
  {
   "cell_type": "markdown",
   "metadata": {},
   "source": [
    "## Get Tick"
   ]
  },
  {
   "cell_type": "code",
   "execution_count": 10,
   "metadata": {},
   "outputs": [],
   "source": [
    "instruments = [12219650, 12219906]"
   ]
  },
  {
   "cell_type": "code",
   "execution_count": 11,
   "metadata": {},
   "outputs": [],
   "source": [
    "import logging\n",
    "from kiteconnect import KiteTicker\n",
    "\n",
    "logging.basicConfig(level=logging.DEBUG)\n",
    "\n",
    "# Initialise\n",
    "# kws = KiteTicker(\"your_api_key\", \"your_access_token\")\n",
    "kws = KiteTicker(API_KEY, ACCESS_TOKEN)\n",
    "\n",
    "def on_ticks(ws, ticks):\n",
    "    # Callback to receive ticks.\n",
    "    \n",
    "    # on json.dumps\n",
    "    # TypeError: Object of type datetime is not JSON serializable formatting issue on datetime object \n",
    "    #     http://127.0.0.1:7777/?token=473bbc2c11c1b9b0865b35b31c0ba704c151a06b833abce7\n",
    "    logging.debug(\"Ticks: {}\".format(json.dumps(ticks, indent=4, default=str)))\n",
    "\n",
    "def on_connect(ws, response):\n",
    "    # Callback on successful connect.\n",
    "    # Subscribe to a list of instrument_tokens (RELIANCE and ACC here).\n",
    "#     ws.subscribe([738561, 5633])\n",
    "    ws.subscribe(instruments)\n",
    "\n",
    "    # Set RELIANCE to tick in `full` mode.\n",
    "#     ws.set_mode(ws.MODE_FULL, [738561])\n",
    "    ws.set_mode(ws.MODE_FULL, instruments)\n",
    "\n",
    "def on_close(ws, code, reason):\n",
    "    # On connection close stop the main loop\n",
    "    # Reconnection will not happen after executing `ws.stop()`\n",
    "    ws.stop()\n",
    "\n",
    "# Assign the callbacks.\n",
    "kws.on_ticks = on_ticks\n",
    "kws.on_connect = on_connect\n",
    "kws.on_close = on_close\n"
   ]
  },
  {
   "cell_type": "markdown",
   "metadata": {},
   "source": [
    "```json\n",
    "DEBUG:root:Ticks: [{'tradable': True, 'mode': 'quote', 'instrument_token': 12219650, 'last_price': 212.9, 'last_quantity': 75, 'average_price': 227.14, 'volume': 1348650, 'buy_quantity': 61500, 'sell_quantity': 67575, 'ohlc': {'open': 265.1, 'high': 268.3, 'low': 205.05, 'close': 264.15}, 'change': -19.401855006625016}, {'tradable': True, 'mode': 'quote', 'instrument_token': 12219906, 'last_price': 272.65, 'last_quantity': 75, 'average_price': 267.43, 'volume': 92700, 'buy_quantity': 58350, 'sell_quantity': 45750, 'ohlc': {'open': 269.6, 'high': 294.15, 'low': 235.05, 'close': 262.5}, 'change': 3.866666666666658}]\n",
    "DEBUG:root:Ticks: [{'tradable': True, 'mode': 'quote', 'instrument_token': 12219906, 'last_price': 272.65, 'last_quantity': 75, 'average_price': 267.43, 'volume': 92700, 'buy_quantity': 57000, 'sell_quantity': 47025, 'ohlc': {'open': 269.6, 'high': 294.15, 'low': 235.05, 'close': 262.5}, 'change': 3.866666666666658}]\n",
    "```\n",
    "\n",
    "\n",
    "**ws.MODE_FULL**\n",
    "\n",
    "```json\n",
    "DEBUG:root:Ticks: [{'tradable': True, 'mode': 'full', 'instrument_token': 12219650, 'last_price': 210.55, 'last_quantity': 75, 'average_price': 227.19, 'volume': 1344000, 'buy_quantity': 61650, 'sell_quantity': 64725, 'ohlc': {'open': 265.1, 'high': 268.3, 'low': 205.05, 'close': 264.15}, 'change': -20.291501041075136, 'last_trade_time': datetime.datetime(2020, 11, 4, 12, 2, 46), 'oi': 834150, 'oi_day_high': 834150, 'oi_day_low': 735225, 'timestamp': datetime.datetime(2020, 11, 4, 12, 2, 50), 'depth': {'buy': [{'quantity': 150, 'price': 210.0, 'orders': 2}, {'quantity': 75, 'price': 209.9, 'orders': 1}, {'quantity': 75, 'price': 209.85, 'orders': 1}, {'quantity': 75, 'price': 209.8, 'orders': 1}, {'quantity': 75, 'price': 209.7, 'orders': 1}], 'sell': [{'quantity': 75, 'price': 210.45, 'orders': 1}, {'quantity': 75, 'price': 210.5, 'orders': 1}, {'quantity': 150, 'price': 210.6, 'orders': 2}, {'quantity': 300, 'price': 210.65, 'orders': 2}, {'quantity': 150, 'price': 210.7, 'orders': 2}]}}, {'tradable': True, 'mode': 'full', 'instrument_token': 12219906, 'last_price': 277.0, 'last_quantity': 75, 'average_price': 267.28, 'volume': 90825, 'buy_quantity': 53925, 'sell_quantity': 44625, 'ohlc': {'open': 269.6, 'high': 294.15, 'low': 235.05, 'close': 262.5}, 'change': 5.523809523809524, 'last_trade_time': datetime.datetime(2020, 11, 4, 12, 2, 49), 'oi': 54525, 'oi_day_high': 56250, 'oi_day_low': 50100, 'timestamp': datetime.datetime(2020, 11, 4, 12, 2, 51), 'depth': {'buy': [{'quantity': 75, 'price': 277.0, 'orders': 1}, {'quantity': 150, 'price': 276.05, 'orders': 1}, {'quantity': 225, 'price': 276.0, 'orders': 1}, {'quantity': 75, 'price': 275.9, 'orders': 1}, {'quantity': 600, 'price': 275.8, 'orders': 1}], 'sell': [{'quantity': 825, 'price': 277.9, 'orders': 2}, {'quantity': 75, 'price': 278.0, 'orders': 1}, {'quantity': 150, 'price': 278.1, 'orders': 1}, {'quantity': 1125, 'price': 278.15, 'orders': 1}, {'quantity': 1125, 'price': 278.25, 'orders': 1}]}}]\n",
    "DEBUG:root:Ticks: [{'tradable': True, 'mode': 'full', 'instrument_token': 12219906, 'last_price': 277.0, 'last_quantity': 75, 'average_price': 267.28, 'volume': 90825, 'buy_quantity': 53925, 'sell_quantity': 44625, 'ohlc': {'open': 269.6, 'high': 294.15, 'low': 235.05, 'close': 262.5}, 'change': 5.523809523809524, 'last_trade_time': datetime.datetime(2020, 11, 4, 12, 2, 49), 'oi': 54525, 'oi_day_high': 56250, 'oi_day_low': 50100, 'timestamp': datetime.datetime(2020, 11, 4, 12, 2, 51), 'depth': {'buy': [{'quantity': 75, 'price': 277.0, 'orders': 1}, {'quantity': 150, 'price': 276.05, 'orders': 1}, {'quantity': 225, 'price': 276.0, 'orders': 1}, {'quantity': 75, 'price': 275.9, 'orders': 1}, {'quantity': 600, 'price': 275.8, 'orders': 1}], 'sell': [{'quantity': 825, 'price': 277.9, 'orders': 2}, {'quantity': 75, 'price': 278.0, 'orders': 1}, {'quantity': 150, 'price': 278.1, 'orders': 1}, {'quantity': 1125, 'price': 278.15, 'orders': 1}, {'quantity': 1125, 'price': 278.25, 'orders': 1}]}}, {'tradable': True, 'mode': 'full', 'instrument_token': 12219650, 'last_price': 210.55, 'last_quantity': 75, 'average_price': 227.19, 'volume': 1344000, 'buy_quantity': 60150, 'sell_quantity': 64800, 'ohlc': {'open': 265.1, 'high': 268.3, 'low': 205.05, 'close': 264.15}, 'change': -20.291501041075136, 'last_trade_time': datetime.datetime(2020, 11, 4, 12, 2, 46), 'oi': 834150, 'oi_day_high': 834150, 'oi_day_low': 735225, 'timestamp': datetime.datetime(2020, 11, 4, 12, 2, 51), 'depth': {'buy': [{'quantity': 150, 'price': 210.0, 'orders': 2}, {'quantity': 75, 'price': 209.9, 'orders': 1}, {'quantity': 75, 'price': 209.85, 'orders': 1}, {'quantity': 75, 'price': 209.8, 'orders': 1}, {'quantity': 75, 'price': 209.7, 'orders': 1}], 'sell': [{'quantity': 75, 'price': 210.3, 'orders': 1}, {'quantity': 75, 'price': 210.45, 'orders': 1}, {'quantity': 75, 'price': 210.5, 'orders': 1}, {'quantity': 150, 'price': 210.6, 'orders': 2}, {'quantity': 300, 'price': 210.65, 'orders': 2}]}}]\n",
    "```\n"
   ]
  },
  {
   "cell_type": "code",
   "execution_count": null,
   "metadata": {},
   "outputs": [],
   "source": [
    "kws.connect()"
   ]
  },
  {
   "cell_type": "code",
   "execution_count": null,
   "metadata": {},
   "outputs": [],
   "source": []
  }
 ],
 "metadata": {
  "kernelspec": {
   "display_name": "kiteconnect",
   "language": "python",
   "name": "kiteconnect"
  },
  "language_info": {
   "codemirror_mode": {
    "name": "ipython",
    "version": 3
   },
   "file_extension": ".py",
   "mimetype": "text/x-python",
   "name": "python",
   "nbconvert_exporter": "python",
   "pygments_lexer": "ipython3",
   "version": "3.8.3"
  }
 },
 "nbformat": 4,
 "nbformat_minor": 4
}
